{
 "cells": [
  {
   "cell_type": "code",
   "execution_count": 1,
   "metadata": {},
   "outputs": [],
   "source": [
    "%matplotlib inline\n",
    "from collections import defaultdict\n",
    "from math import exp, log\n",
    "from random import random\n",
    "import numpy as np\n",
    "import pandas as pd\n",
    "import sklearn as sk\n",
    "from sklearn.linear_model import LogisticRegression\n",
    "import matplotlib.pyplot as plt"
   ]
  },
  {
   "cell_type": "markdown",
   "metadata": {},
   "source": [
    "## setup"
   ]
  },
  {
   "cell_type": "code",
   "execution_count": 2,
   "metadata": {},
   "outputs": [],
   "source": [
    "rounds = 2_000\n",
    "win_pcts_four_team_example = np.array([\n",
    "    [0, 0.6, 0.7, 0.8],\n",
    "    [0, 0,   0.6, 0.7],\n",
    "    [0, 0,   0,   0.6],\n",
    "    [0, 0,   0,   0],\n",
    "])\n",
    "win_pcts = np.array([\n",
    "    [0, 0.7],\n",
    "    [0, 0]\n",
    "])"
   ]
  },
  {
   "cell_type": "code",
   "execution_count": 3,
   "metadata": {},
   "outputs": [],
   "source": [
    "def create_data(win_pcts, rounds=10, as_dataframe=True):\n",
    "    teams = len(win_pcts)\n",
    "    recs = []\n",
    "    # arr = np.random.random(size=(10_000, *win_pcts.shape)) < win_pcts\n",
    "    for r in range(rounds):\n",
    "        # enumerate upper triangle so each team plays every other team once\n",
    "        # could allow home/away by using whole grid\n",
    "        for team_a in range(teams):\n",
    "            for team_b in range(team_a+1, teams):\n",
    "                team_a_win_pct = win_pcts[team_a, team_b]\n",
    "                team_a_wins = random() < team_a_win_pct\n",
    "                recs.append((team_a, team_b, r, team_a_wins))\n",
    "    if as_dataframe:\n",
    "        return pd.DataFrame(recs, columns=['team_a', 'team_b', 'round', 'team_a_wins'])\n",
    "    return recs"
   ]
  },
  {
   "cell_type": "code",
   "execution_count": 4,
   "metadata": {},
   "outputs": [],
   "source": [
    "recs = create_data(win_pcts, rounds=rounds, as_dataframe=False)\n",
    "df = pd.DataFrame(recs, columns=['team_a', 'team_b', 'round', 'team_a_wins'])"
   ]
  },
  {
   "cell_type": "markdown",
   "metadata": {},
   "source": [
    "## logreg"
   ]
  },
  {
   "cell_type": "code",
   "execution_count": 5,
   "metadata": {},
   "outputs": [
    {
     "data": {
      "text/plain": [
       "array([[ 0.42841996, -0.42841996]])"
      ]
     },
     "execution_count": 5,
     "metadata": {},
     "output_type": "execute_result"
    }
   ],
   "source": [
    "# x = I(server) - I(receiver)\n",
    "ta = pd.get_dummies(df['team_a'], dtype=np.int8)\n",
    "tb = pd.get_dummies(df['team_b'], dtype=np.int8)\n",
    "x = ta.subtract(tb, fill_value=0).astype(np.int8)\n",
    "# high C is a low penalty\n",
    "clf = LogisticRegression(C=1e10, fit_intercept=False, solver='lbfgs')\n",
    "clf.fit(x, df['team_a_wins'])\n",
    "clf.coef_"
   ]
  },
  {
   "cell_type": "markdown",
   "metadata": {},
   "source": [
    "## elo"
   ]
  },
  {
   "cell_type": "code",
   "execution_count": 6,
   "metadata": {},
   "outputs": [],
   "source": [
    "mean_rating = 0  # also the starting rating\n",
    "ratings = defaultdict(lambda: mean_rating)\n",
    "k = 1/300\n",
    "# elo width/scale is just a rescaling so don't worry about it\n",
    "post_ratings = []\n",
    "for i, (team_a, team_b, r, team_a_wins) in enumerate(recs):\n",
    "    ratings_diff = ratings[team_a] - ratings[team_b]\n",
    "    expected_result = 1.0 / (1 + exp(-ratings_diff))\n",
    "    change_in_rating = k*(team_a_wins - expected_result)\n",
    "    ratings[team_a] += change_in_rating\n",
    "    ratings[team_b] -= change_in_rating\n",
    "    post_ratings.append((ratings[team_a], ratings[team_b]))"
   ]
  },
  {
   "cell_type": "code",
   "execution_count": 7,
   "metadata": {},
   "outputs": [
    {
     "data": {
      "text/html": [
       "<div>\n",
       "<style scoped>\n",
       "    .dataframe tbody tr th:only-of-type {\n",
       "        vertical-align: middle;\n",
       "    }\n",
       "\n",
       "    .dataframe tbody tr th {\n",
       "        vertical-align: top;\n",
       "    }\n",
       "\n",
       "    .dataframe thead th {\n",
       "        text-align: right;\n",
       "    }\n",
       "</style>\n",
       "<table border=\"1\" class=\"dataframe\">\n",
       "  <thead>\n",
       "    <tr style=\"text-align: right;\">\n",
       "      <th></th>\n",
       "      <th>team_a</th>\n",
       "      <th>team_b</th>\n",
       "      <th>round</th>\n",
       "      <th>team_a_wins</th>\n",
       "      <th>r_team_a</th>\n",
       "      <th>r_team_b</th>\n",
       "    </tr>\n",
       "  </thead>\n",
       "  <tbody>\n",
       "    <tr>\n",
       "      <th>0</th>\n",
       "      <td>0</td>\n",
       "      <td>1</td>\n",
       "      <td>0</td>\n",
       "      <td>True</td>\n",
       "      <td>0.001667</td>\n",
       "      <td>-0.001667</td>\n",
       "    </tr>\n",
       "    <tr>\n",
       "      <th>1</th>\n",
       "      <td>0</td>\n",
       "      <td>1</td>\n",
       "      <td>1</td>\n",
       "      <td>True</td>\n",
       "      <td>0.003331</td>\n",
       "      <td>-0.003331</td>\n",
       "    </tr>\n",
       "    <tr>\n",
       "      <th>2</th>\n",
       "      <td>0</td>\n",
       "      <td>1</td>\n",
       "      <td>2</td>\n",
       "      <td>True</td>\n",
       "      <td>0.004992</td>\n",
       "      <td>-0.004992</td>\n",
       "    </tr>\n",
       "    <tr>\n",
       "      <th>3</th>\n",
       "      <td>0</td>\n",
       "      <td>1</td>\n",
       "      <td>3</td>\n",
       "      <td>False</td>\n",
       "      <td>0.003317</td>\n",
       "      <td>-0.003317</td>\n",
       "    </tr>\n",
       "    <tr>\n",
       "      <th>4</th>\n",
       "      <td>0</td>\n",
       "      <td>1</td>\n",
       "      <td>4</td>\n",
       "      <td>True</td>\n",
       "      <td>0.004978</td>\n",
       "      <td>-0.004978</td>\n",
       "    </tr>\n",
       "  </tbody>\n",
       "</table>\n",
       "</div>"
      ],
      "text/plain": [
       "   team_a  team_b  round  team_a_wins  r_team_a  r_team_b\n",
       "0       0       1      0         True  0.001667 -0.001667\n",
       "1       0       1      1         True  0.003331 -0.003331\n",
       "2       0       1      2         True  0.004992 -0.004992\n",
       "3       0       1      3        False  0.003317 -0.003317\n",
       "4       0       1      4         True  0.004978 -0.004978"
      ]
     },
     "execution_count": 7,
     "metadata": {},
     "output_type": "execute_result"
    }
   ],
   "source": [
    "df = pd.DataFrame(recs, columns=['team_a', 'team_b', 'round', 'team_a_wins'])\n",
    "dfr = pd.DataFrame(post_ratings, columns=['r_team_a', 'r_team_b'])\n",
    "df = df.join(dfr)\n",
    "df.head()"
   ]
  },
  {
   "cell_type": "markdown",
   "metadata": {},
   "source": [
    "## compare"
   ]
  },
  {
   "cell_type": "code",
   "execution_count": 8,
   "metadata": {},
   "outputs": [],
   "source": [
    "def logistic(x):\n",
    "    return 1 / (1 + np.exp(-x))\n",
    "def logit(x):\n",
    "    return np.log(x/(1-x))"
   ]
  },
  {
   "cell_type": "code",
   "execution_count": 9,
   "metadata": {},
   "outputs": [],
   "source": [
    "true_rating = logit(win_pcts[0, 1]) / 2"
   ]
  },
  {
   "cell_type": "code",
   "execution_count": 10,
   "metadata": {},
   "outputs": [
    {
     "data": {
      "text/plain": [
       "Text(0, 0.5, 'strength')"
      ]
     },
     "execution_count": 10,
     "metadata": {},
     "output_type": "execute_result"
    },
    {
     "data": {
      "image/png": "[encoded data removed]",
      "text/plain": [
       "<Figure size 432x288 with 1 Axes>"
      ]
     },
     "metadata": {
      "needs_background": "light"
     },
     "output_type": "display_data"
    }
   ],
   "source": [
    "df.loc[df['team_a'] == 0, 'r_team_a'].plot(c='blue', label='elo-a', linestyle=':')\n",
    "df.loc[df['team_b'] == 1, 'r_team_b'].plot(c='red', label='elo-b', linestyle=':')\n",
    "plt.hlines(clf.coef_[0, 0], 0, rounds, color='blue', label='logreg-a', linestyle='-.')\n",
    "plt.hlines(clf.coef_[0, 1], 0, rounds, color='red', label='logreg-b', linestyle='-.')\n",
    "# plt.hlines(true_rating, 0, rounds, color='black')\n",
    "# plt.hlines(-true_rating, 0, rounds, color='black')\n",
    "plt.legend(bbox_to_anchor=(1.0, 0.5))\n",
    "plt.xlabel('round')\n",
    "plt.ylabel('strength')"
   ]
  },
  {
   "cell_type": "markdown",
   "metadata": {},
   "source": [
    "**Elo is just gradient descent updates of logistic regression, which means that if strength is constant, given enough updates, elo will converge to the logreg result**. Actually, logreg will estimate the average strength"
   ]
  },
  {
   "cell_type": "code",
   "execution_count": 11,
   "metadata": {},
   "outputs": [
    {
     "data": {
      "text/plain": [
       "0.701999999996139"
      ]
     },
     "execution_count": 11,
     "metadata": {},
     "output_type": "execute_result"
    }
   ],
   "source": [
    "# and estimated win percentage\n",
    "logistic(clf.coef_[0, 0] - clf.coef_[0, 1])"
   ]
  },
  {
   "cell_type": "code",
   "execution_count": null,
   "metadata": {},
   "outputs": [],
   "source": []
  }
 ],
 "metadata": {
  "kernelspec": {
   "display_name": "Python 3",
   "language": "python",
   "name": "python3"
  },
  "language_info": {
   "codemirror_mode": {
    "name": "ipython",
    "version": 3
   },
   "file_extension": ".py",
   "mimetype": "text/x-python",
   "name": "python",
   "nbconvert_exporter": "python",
   "pygments_lexer": "ipython3",
   "version": "3.7.3"
  }
 },
 "nbformat": 4,
 "nbformat_minor": 4
}
