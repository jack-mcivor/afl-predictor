{
 "cells": [
  {
   "cell_type": "code",
   "execution_count": 1,
   "metadata": {},
   "outputs": [],
   "source": [
    "%matplotlib inline\n",
    "from collections import defaultdict\n",
    "from math import exp, log\n",
    "from random import random\n",
    "import numpy as np\n",
    "import pandas as pd\n",
    "import sklearn as sk\n",
    "from sklearn.linear_model import LogisticRegression\n",
    "import matplotlib.pyplot as plt"
   ]
  },
  {
   "cell_type": "markdown",
   "metadata": {},
   "source": [
    "## setup"
   ]
  },
  {
   "cell_type": "code",
   "execution_count": 2,
   "metadata": {},
   "outputs": [],
   "source": [
    "rounds = 1_000\n",
    "win_pcts_four_team_example = np.array([\n",
    "    [0, 0.6, 0.7, 0.8],\n",
    "    [0, 0,   0.6, 0.7],\n",
    "    [0, 0,   0,   0.6],\n",
    "    [0, 0,   0,   0],\n",
    "])\n",
    "win_pcts = np.array([\n",
    "    [0, lambda r: 0.7+0.25*r/rounds],\n",
    "    [0, 0]\n",
    "])"
   ]
  },
  {
   "cell_type": "code",
   "execution_count": 3,
   "metadata": {},
   "outputs": [],
   "source": [
    "def create_data(win_pcts, rounds=10, as_dataframe=True):\n",
    "    teams = len(win_pcts)\n",
    "    recs = []\n",
    "    # arr = np.random.random(size=(10_000, *win_pcts.shape)) < win_pcts\n",
    "    for r in range(rounds):\n",
    "        # enumerate upper triangle\n",
    "        for team_a in range(teams):\n",
    "            for team_b in range(team_a+1, teams):\n",
    "                team_a_win_pct = win_pcts[team_a, team_b](r)\n",
    "                team_a_wins = random() < team_a_win_pct\n",
    "                recs.append((team_a, team_b, r, team_a_wins))\n",
    "    if as_dataframe:\n",
    "        return pd.DataFrame(recs, columns=['team_a', 'team_b', 'round', 'team_a_wins'])\n",
    "    return recs"
   ]
  },
  {
   "cell_type": "code",
   "execution_count": 4,
   "metadata": {},
   "outputs": [],
   "source": [
    "recs = create_data(win_pcts, rounds=rounds, as_dataframe=False)\n",
    "df = pd.DataFrame(recs, columns=['team_a', 'team_b', 'round', 'team_a_wins'])"
   ]
  },
  {
   "cell_type": "markdown",
   "metadata": {},
   "source": [
    "## logreg"
   ]
  },
  {
   "cell_type": "code",
   "execution_count": 5,
   "metadata": {},
   "outputs": [],
   "source": [
    "sample_weights = np.exp(np.arange(rounds)/1e2)\n",
    "# plt.plot(range(rounds), sample_weights)"
   ]
  },
  {
   "cell_type": "code",
   "execution_count": 6,
   "metadata": {},
   "outputs": [
    {
     "data": {
      "text/plain": [
       "array([[ 0.81036694, -0.81036694]])"
      ]
     },
     "execution_count": 6,
     "metadata": {},
     "output_type": "execute_result"
    }
   ],
   "source": [
    "# x = I(server) - I(receiver)\n",
    "ta = pd.get_dummies(df['team_a'], dtype=np.int8)\n",
    "tb = pd.get_dummies(df['team_b'], dtype=np.int8)\n",
    "x = ta.subtract(tb, fill_value=0).astype(np.int8).values\n",
    "y = df['team_a_wins'].values\n",
    "# high C is a low penalty\n",
    "clf = LogisticRegression(C=1e-1, fit_intercept=False, solver='lbfgs')\n",
    "clf.fit(x, y)\n",
    "clf.coef_"
   ]
  },
  {
   "cell_type": "code",
   "execution_count": 7,
   "metadata": {},
   "outputs": [
    {
     "name": "stdout",
     "output_type": "stream",
     "text": [
      "This solver needs samples of at least 2 classes in the data, but the data contains only one class: True\n"
     ]
    }
   ],
   "source": [
    "# consecutive fits\n",
    "coefs = []\n",
    "for i in range(rounds):\n",
    "    try:\n",
    "        clf.fit(x[:i+1], y[:i+1], sample_weight=sample_weights[:i+1])\n",
    "        # clf.fit(x[:i], y[:i])\n",
    "        coefs.append(clf.coef_[0])\n",
    "    except ValueError as err:\n",
    "        print(err)\n",
    "        coefs.append([0, 0])\n",
    "coefs = np.array(coefs)"
   ]
  },
  {
   "cell_type": "code",
   "execution_count": 8,
   "metadata": {},
   "outputs": [
    {
     "data": {
      "text/plain": [
       "array([[ 0.81036694, -0.81036694]])"
      ]
     },
     "execution_count": 8,
     "metadata": {},
     "output_type": "execute_result"
    }
   ],
   "source": [
    "clf.fit(x, y)\n",
    "clf.coef_"
   ]
  },
  {
   "cell_type": "markdown",
   "metadata": {},
   "source": [
    "## elo"
   ]
  },
  {
   "cell_type": "code",
   "execution_count": 9,
   "metadata": {},
   "outputs": [],
   "source": [
    "mean_rating = 0  # also the starting rating\n",
    "ratings = defaultdict(lambda: mean_rating)\n",
    "k = 1/20\n",
    "# elo width/scale is just a rescaling so don't worry about it\n",
    "post_ratings = []\n",
    "for i, (team_a, team_b, r, team_a_wins) in enumerate(recs):\n",
    "    ratings_diff = ratings[team_a] - ratings[team_b]\n",
    "    expected_result = 1.0 / (1 + exp(-ratings_diff))\n",
    "    change_in_rating = k*(team_a_wins - expected_result)\n",
    "    ratings[team_a] += change_in_rating\n",
    "    ratings[team_b] -= change_in_rating\n",
    "    post_ratings.append((ratings[team_a], ratings[team_b]))"
   ]
  },
  {
   "cell_type": "code",
   "execution_count": 10,
   "metadata": {},
   "outputs": [
    {
     "data": {
      "text/html": [
       "<div>\n",
       "<style scoped>\n",
       "    .dataframe tbody tr th:only-of-type {\n",
       "        vertical-align: middle;\n",
       "    }\n",
       "\n",
       "    .dataframe tbody tr th {\n",
       "        vertical-align: top;\n",
       "    }\n",
       "\n",
       "    .dataframe thead th {\n",
       "        text-align: right;\n",
       "    }\n",
       "</style>\n",
       "<table border=\"1\" class=\"dataframe\">\n",
       "  <thead>\n",
       "    <tr style=\"text-align: right;\">\n",
       "      <th></th>\n",
       "      <th>team_a</th>\n",
       "      <th>team_b</th>\n",
       "      <th>round</th>\n",
       "      <th>team_a_wins</th>\n",
       "      <th>r_team_a</th>\n",
       "      <th>r_team_b</th>\n",
       "    </tr>\n",
       "  </thead>\n",
       "  <tbody>\n",
       "    <tr>\n",
       "      <th>0</th>\n",
       "      <td>0</td>\n",
       "      <td>1</td>\n",
       "      <td>0</td>\n",
       "      <td>True</td>\n",
       "      <td>0.025000</td>\n",
       "      <td>-0.025000</td>\n",
       "    </tr>\n",
       "    <tr>\n",
       "      <th>1</th>\n",
       "      <td>0</td>\n",
       "      <td>1</td>\n",
       "      <td>1</td>\n",
       "      <td>False</td>\n",
       "      <td>-0.000625</td>\n",
       "      <td>0.000625</td>\n",
       "    </tr>\n",
       "    <tr>\n",
       "      <th>2</th>\n",
       "      <td>0</td>\n",
       "      <td>1</td>\n",
       "      <td>2</td>\n",
       "      <td>True</td>\n",
       "      <td>0.024391</td>\n",
       "      <td>-0.024391</td>\n",
       "    </tr>\n",
       "    <tr>\n",
       "      <th>3</th>\n",
       "      <td>0</td>\n",
       "      <td>1</td>\n",
       "      <td>3</td>\n",
       "      <td>True</td>\n",
       "      <td>0.048781</td>\n",
       "      <td>-0.048781</td>\n",
       "    </tr>\n",
       "    <tr>\n",
       "      <th>4</th>\n",
       "      <td>0</td>\n",
       "      <td>1</td>\n",
       "      <td>4</td>\n",
       "      <td>True</td>\n",
       "      <td>0.072563</td>\n",
       "      <td>-0.072563</td>\n",
       "    </tr>\n",
       "  </tbody>\n",
       "</table>\n",
       "</div>"
      ],
      "text/plain": [
       "   team_a  team_b  round  team_a_wins  r_team_a  r_team_b\n",
       "0       0       1      0         True  0.025000 -0.025000\n",
       "1       0       1      1        False -0.000625  0.000625\n",
       "2       0       1      2         True  0.024391 -0.024391\n",
       "3       0       1      3         True  0.048781 -0.048781\n",
       "4       0       1      4         True  0.072563 -0.072563"
      ]
     },
     "execution_count": 10,
     "metadata": {},
     "output_type": "execute_result"
    }
   ],
   "source": [
    "df = pd.DataFrame(recs, columns=['team_a', 'team_b', 'round', 'team_a_wins'])\n",
    "dfr = pd.DataFrame(post_ratings, columns=['r_team_a', 'r_team_b'])\n",
    "df = df.join(dfr)\n",
    "df.head()"
   ]
  },
  {
   "cell_type": "markdown",
   "metadata": {},
   "source": [
    "## compare"
   ]
  },
  {
   "cell_type": "code",
   "execution_count": 11,
   "metadata": {},
   "outputs": [],
   "source": [
    "def logistic(x):\n",
    "    return 1 / (1 + np.exp(-x))\n",
    "def logit(x):\n",
    "    return np.log(x/(1-x))"
   ]
  },
  {
   "cell_type": "code",
   "execution_count": 12,
   "metadata": {},
   "outputs": [],
   "source": [
    "# divide the ratings diff by 2\n",
    "true_rating = logit(win_pcts[0, 1](np.arange(rounds))) / 2"
   ]
  },
  {
   "cell_type": "code",
   "execution_count": 13,
   "metadata": {},
   "outputs": [
    {
     "data": {
      "text/plain": [
       "Text(0, 0.5, 'strength')"
      ]
     },
     "execution_count": 13,
     "metadata": {},
     "output_type": "execute_result"
    },
    {
     "data": {
      "image/png": "[encoded data removed]",
      "text/plain": [
       "<Figure size 432x288 with 1 Axes>"
      ]
     },
     "metadata": {
      "needs_background": "light"
     },
     "output_type": "display_data"
    }
   ],
   "source": [
    "df.loc[df['team_a'] == 0, 'r_team_a'].plot(c='blue', label='elo-a', linestyle=':')\n",
    "df.loc[df['team_b'] == 1, 'r_team_b'].plot(c='red', label='elo-b', linestyle=':')\n",
    "plt.hlines(clf.coef_[0, 0], 0, rounds, color='blue', label='logreg-a', linestyle='-.')\n",
    "plt.hlines(clf.coef_[0, 1], 0, rounds, color='red', linestyle='-.')\n",
    "plt.plot(range(rounds), coefs[:, 0], label='logreg-ew-a', linewidth=1)\n",
    "plt.plot(range(rounds), true_rating, color='black', label='true-a')\n",
    "plt.plot(range(rounds), -true_rating, color='black')\n",
    "plt.legend(bbox_to_anchor=(1.0, 0.5))\n",
    "plt.xlabel('round')\n",
    "plt.ylabel('strength')"
   ]
  },
  {
   "cell_type": "code",
   "execution_count": 14,
   "metadata": {},
   "outputs": [],
   "source": [
    "elo_win_probs = logistic(df['r_team_a'] - df['r_team_b'])\n",
    "logreg_win_probs = logistic(coefs[:, 0] - coefs[:, 1])"
   ]
  },
  {
   "cell_type": "code",
   "execution_count": 15,
   "metadata": {},
   "outputs": [
    {
     "data": {
      "text/plain": [
       "1.1564468200135007"
      ]
     },
     "execution_count": 15,
     "metadata": {},
     "output_type": "execute_result"
    },
    {
     "data": {
      "image/png": "[encoded data removed]",
      "text/plain": [
       "<Figure size 432x288 with 1 Axes>"
      ]
     },
     "metadata": {
      "needs_background": "light"
     },
     "output_type": "display_data"
    }
   ],
   "source": [
    "error = (elo_win_probs - logreg_win_probs) * 100\n",
    "error.plot()\n",
    "plt.hlines(0, 0, rounds)\n",
    "np.sqrt(error.pow(2).mean())\n",
    "# logreg and elo are pretty similar!"
   ]
  },
  {
   "cell_type": "markdown",
   "metadata": {},
   "source": [
    "1. elo is just gradient descent updates of logistic regression, so if team strength is constant and there are enough rounds, elo will converge to a logreg solution\n",
    "2. if strength is non constant (shown here increasing), logreg will estimate the average strength\n",
    "3. you can partially fix this by weighted observations of the logreg (shown here is exponential decay on the weights)\n",
    "4. This suggests that a natural way to include covariates in an Elo style model is to simply weight observations by time. The weighting scheme can be tuned by cross validation. Probably need to take care with players that only play a few matches though\n",
    "\n",
    "(Pretty sure you can just include covariates in Elo as part of the ratings difference term, but then you need to write a method of optimising all these parameters- however I think gradient descent works fine)\n",
    "\n",
    "5. By increasing the coefficient penalty, we can actually account for 4 (eg. try changing C=1e-1 above)\n",
    "6. Pretty sure all this can be proven by looking at the loss functions"
   ]
  },
  {
   "cell_type": "code",
   "execution_count": null,
   "metadata": {},
   "outputs": [],
   "source": []
  }
 ],
 "metadata": {
  "kernelspec": {
   "display_name": "Python 3",
   "language": "python",
   "name": "python3"
  },
  "language_info": {
   "codemirror_mode": {
    "name": "ipython",
    "version": 3
   },
   "file_extension": ".py",
   "mimetype": "text/x-python",
   "name": "python",
   "nbconvert_exporter": "python",
   "pygments_lexer": "ipython3",
   "version": "3.7.3"
  }
 },
 "nbformat": 4,
 "nbformat_minor": 4
}
