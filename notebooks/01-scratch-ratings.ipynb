{
 "cells": [
  {
   "cell_type": "code",
   "execution_count": 1,
   "metadata": {
    "collapsed": true,
    "jupyter": {
     "outputs_hidden": true
    }
   },
   "outputs": [],
   "source": [
    "import pandas as pd\n",
    "import numpy as np\n",
    "import matplotlib.pyplot as plt\n",
    "import seaborn as sns\n",
    "\n",
    "%matplotlib inline"
   ]
  },
  {
   "cell_type": "code",
   "execution_count": 2,
   "metadata": {},
   "outputs": [
    {
     "data": {
      "text/html": [
       "<div>\n",
       "<style scoped>\n",
       "    .dataframe tbody tr th:only-of-type {\n",
       "        vertical-align: middle;\n",
       "    }\n",
       "\n",
       "    .dataframe tbody tr th {\n",
       "        vertical-align: top;\n",
       "    }\n",
       "\n",
       "    .dataframe thead th {\n",
       "        text-align: right;\n",
       "    }\n",
       "</style>\n",
       "<table border=\"1\" class=\"dataframe\">\n",
       "  <thead>\n",
       "    <tr style=\"text-align: right;\">\n",
       "      <th></th>\n",
       "      <th>date</th>\n",
       "      <th>round</th>\n",
       "      <th>home_team</th>\n",
       "      <th>home_score</th>\n",
       "      <th>away_team</th>\n",
       "      <th>away_score</th>\n",
       "      <th>venue</th>\n",
       "      <th>season</th>\n",
       "      <th>home_points</th>\n",
       "      <th>away_points</th>\n",
       "      <th>home_points_ratio</th>\n",
       "      <th>home_margin</th>\n",
       "      <th>winner</th>\n",
       "      <th>home_win_draw_loss</th>\n",
       "      <th>round_type</th>\n",
       "      <th>round_number</th>\n",
       "      <th>home_state</th>\n",
       "      <th>away_state</th>\n",
       "      <th>is_interstate</th>\n",
       "      <th>home_squashed_margin</th>\n",
       "    </tr>\n",
       "    <tr>\n",
       "      <th>matchid</th>\n",
       "      <th></th>\n",
       "      <th></th>\n",
       "      <th></th>\n",
       "      <th></th>\n",
       "      <th></th>\n",
       "      <th></th>\n",
       "      <th></th>\n",
       "      <th></th>\n",
       "      <th></th>\n",
       "      <th></th>\n",
       "      <th></th>\n",
       "      <th></th>\n",
       "      <th></th>\n",
       "      <th></th>\n",
       "      <th></th>\n",
       "      <th></th>\n",
       "      <th></th>\n",
       "      <th></th>\n",
       "      <th></th>\n",
       "      <th></th>\n",
       "    </tr>\n",
       "  </thead>\n",
       "  <tbody>\n",
       "    <tr>\n",
       "      <th>15592</th>\n",
       "      <td>2019-08-17</td>\n",
       "      <td>R22</td>\n",
       "      <td>North Melbourne</td>\n",
       "      <td>22.12.144</td>\n",
       "      <td>Port Adelaide</td>\n",
       "      <td>8.10.58</td>\n",
       "      <td>Docklands</td>\n",
       "      <td>2019</td>\n",
       "      <td>144</td>\n",
       "      <td>58</td>\n",
       "      <td>0.712871</td>\n",
       "      <td>86</td>\n",
       "      <td>home</td>\n",
       "      <td>1.0</td>\n",
       "      <td>regular</td>\n",
       "      <td>22</td>\n",
       "      <td>VIC</td>\n",
       "      <td>SA</td>\n",
       "      <td>True</td>\n",
       "      <td>0.702661</td>\n",
       "    </tr>\n",
       "    <tr>\n",
       "      <th>15593</th>\n",
       "      <td>2019-08-17</td>\n",
       "      <td>R22</td>\n",
       "      <td>Fremantle</td>\n",
       "      <td>7.13.55</td>\n",
       "      <td>Essendon</td>\n",
       "      <td>13.9.87</td>\n",
       "      <td>Perth Stadium</td>\n",
       "      <td>2019</td>\n",
       "      <td>55</td>\n",
       "      <td>87</td>\n",
       "      <td>0.387324</td>\n",
       "      <td>-32</td>\n",
       "      <td>away</td>\n",
       "      <td>0.0</td>\n",
       "      <td>regular</td>\n",
       "      <td>22</td>\n",
       "      <td>WA</td>\n",
       "      <td>VIC</td>\n",
       "      <td>True</td>\n",
       "      <td>0.420676</td>\n",
       "    </tr>\n",
       "    <tr>\n",
       "      <th>15594</th>\n",
       "      <td>2019-08-18</td>\n",
       "      <td>R22</td>\n",
       "      <td>Richmond</td>\n",
       "      <td>13.10.88</td>\n",
       "      <td>West Coast</td>\n",
       "      <td>13.4.82</td>\n",
       "      <td>M.C.G.</td>\n",
       "      <td>2019</td>\n",
       "      <td>88</td>\n",
       "      <td>82</td>\n",
       "      <td>0.517647</td>\n",
       "      <td>6</td>\n",
       "      <td>home</td>\n",
       "      <td>1.0</td>\n",
       "      <td>regular</td>\n",
       "      <td>22</td>\n",
       "      <td>VIC</td>\n",
       "      <td>WA</td>\n",
       "      <td>True</td>\n",
       "      <td>0.514996</td>\n",
       "    </tr>\n",
       "    <tr>\n",
       "      <th>15595</th>\n",
       "      <td>2019-08-18</td>\n",
       "      <td>R22</td>\n",
       "      <td>GWS</td>\n",
       "      <td>9.11.65</td>\n",
       "      <td>Footscray</td>\n",
       "      <td>19.12.126</td>\n",
       "      <td>Sydney Showground</td>\n",
       "      <td>2019</td>\n",
       "      <td>65</td>\n",
       "      <td>126</td>\n",
       "      <td>0.340314</td>\n",
       "      <td>-61</td>\n",
       "      <td>away</td>\n",
       "      <td>0.0</td>\n",
       "      <td>regular</td>\n",
       "      <td>22</td>\n",
       "      <td>NSW</td>\n",
       "      <td>VIC</td>\n",
       "      <td>True</td>\n",
       "      <td>0.352059</td>\n",
       "    </tr>\n",
       "    <tr>\n",
       "      <th>15596</th>\n",
       "      <td>2019-08-18</td>\n",
       "      <td>R22</td>\n",
       "      <td>Hawthorn</td>\n",
       "      <td>18.10.118</td>\n",
       "      <td>Gold Coast</td>\n",
       "      <td>7.6.48</td>\n",
       "      <td>Docklands</td>\n",
       "      <td>2019</td>\n",
       "      <td>118</td>\n",
       "      <td>48</td>\n",
       "      <td>0.710843</td>\n",
       "      <td>70</td>\n",
       "      <td>home</td>\n",
       "      <td>1.0</td>\n",
       "      <td>regular</td>\n",
       "      <td>22</td>\n",
       "      <td>VIC</td>\n",
       "      <td>QLD</td>\n",
       "      <td>True</td>\n",
       "      <td>0.668188</td>\n",
       "    </tr>\n",
       "  </tbody>\n",
       "</table>\n",
       "</div>"
      ],
      "text/plain": [
       "              date round        home_team home_score      away_team  \\\n",
       "matchid                                                               \n",
       "15592   2019-08-17   R22  North Melbourne  22.12.144  Port Adelaide   \n",
       "15593   2019-08-17   R22        Fremantle    7.13.55       Essendon   \n",
       "15594   2019-08-18   R22         Richmond   13.10.88     West Coast   \n",
       "15595   2019-08-18   R22              GWS    9.11.65      Footscray   \n",
       "15596   2019-08-18   R22         Hawthorn  18.10.118     Gold Coast   \n",
       "\n",
       "        away_score              venue  season  home_points  away_points  \\\n",
       "matchid                                                                   \n",
       "15592      8.10.58          Docklands    2019          144           58   \n",
       "15593      13.9.87      Perth Stadium    2019           55           87   \n",
       "15594      13.4.82             M.C.G.    2019           88           82   \n",
       "15595    19.12.126  Sydney Showground    2019           65          126   \n",
       "15596       7.6.48          Docklands    2019          118           48   \n",
       "\n",
       "         home_points_ratio  home_margin winner  home_win_draw_loss round_type  \\\n",
       "matchid                                                                         \n",
       "15592             0.712871           86   home                 1.0    regular   \n",
       "15593             0.387324          -32   away                 0.0    regular   \n",
       "15594             0.517647            6   home                 1.0    regular   \n",
       "15595             0.340314          -61   away                 0.0    regular   \n",
       "15596             0.710843           70   home                 1.0    regular   \n",
       "\n",
       "         round_number home_state away_state  is_interstate  \\\n",
       "matchid                                                      \n",
       "15592              22        VIC         SA           True   \n",
       "15593              22         WA        VIC           True   \n",
       "15594              22        VIC         WA           True   \n",
       "15595              22        NSW        VIC           True   \n",
       "15596              22        VIC        QLD           True   \n",
       "\n",
       "         home_squashed_margin  \n",
       "matchid                        \n",
       "15592                0.702661  \n",
       "15593                0.420676  \n",
       "15594                0.514996  \n",
       "15595                0.352059  \n",
       "15596                0.668188  "
      ]
     },
     "execution_count": 2,
     "metadata": {},
     "output_type": "execute_result"
    }
   ],
   "source": [
    "from afl.data import afltables\n",
    "\n",
    "df = afltables.get_fixtures()\n",
    "\n",
    "def sigmoid(x, width=100):\n",
    "    return 1.0 / (1 + np.exp(-x/width))\n",
    "\n",
    "df['home_squashed_margin'] = df['home_margin'].pipe(sigmoid)  # a width of 100 returns a similiar looking distribution to the home_points_ratio\n",
    "# its possible we want to use the same width as the expected_home_squashed_margin, so that the ratings diff predicts the score margin?\n",
    "df.tail()"
   ]
  },
  {
   "cell_type": "markdown",
   "metadata": {},
   "source": [
    "# afl/model"
   ]
  },
  {
   "cell_type": "code",
   "execution_count": 3,
   "metadata": {},
   "outputs": [],
   "source": [
    "# optimise initial ratings-\n",
    "# find ratings which minimise "
   ]
  },
  {
   "cell_type": "code",
   "execution_count": 4,
   "metadata": {},
   "outputs": [],
   "source": [
    "from collections import defaultdict\n",
    "from math import exp, log"
   ]
  },
  {
   "cell_type": "code",
   "execution_count": 5,
   "metadata": {},
   "outputs": [],
   "source": [
    "class Elo:\n",
    "    \"\"\"\n",
    "    \"\"\"\n",
    "    def __init__(self, k=30, home_advantage=20, interstate_advantage=5, width=400/log(10), carryover=0.75, k_decay=0.95, \n",
    "                 initial_ratings=None, mean_rating=1500, target='home_win_draw_loss'):\n",
    "        \"\"\"\n",
    "        \"\"\"\n",
    "        self.k = k\n",
    "        self.home_advantage = home_advantage\n",
    "        self.interstate_advantage = interstate_advantage\n",
    "        self.width = width\n",
    "        self.carryover = carryover\n",
    "        self.k_decay = k_decay\n",
    "        \n",
    "        self.mean_rating = mean_rating\n",
    "        self.initial_ratings = initial_ratings or {}\n",
    "        self.target = target  # home_win_draw_loss, home_points_ratio, home_squashed_margin\n",
    "    \n",
    "    def iterate_fixtures(self, fixtures, as_dataframe=True):\n",
    "        \"\"\"\n",
    "        Parameters\n",
    "        ----------\n",
    "        fixtures : list of dict or pd.DataFrame\n",
    "            Must be ordered. Each record (row) must have (columns): home_team, away_team, round_number, is_interstate, <self.target>\n",
    "            Prefer a list of records as it's much faster\n",
    "        \n",
    "        We use the python stdlib math.exp which seems faster in single computation than numpy's version and therefore speeds up parameter fitting\n",
    "        \n",
    "        Profile code with lprun:\n",
    "        %load_ext line_profiler\n",
    "        elo = Elo()\n",
    "        %lprun -f elo.iterate_fixtures elo.iterate_fixtures(fxtrain, as_dataframe=True)\n",
    "        \"\"\"\n",
    "        # new teams are given self.initial_ratings\n",
    "        self.current_ratings_ = defaultdict(lambda: self.mean_rating, self.initial_ratings)\n",
    "        \n",
    "        if isinstance(fixtures, pd.DataFrame):\n",
    "            # A list of records is faster and less prone to errors on update than a DataFrame\n",
    "            fixtures = fixtures.reset_index().to_dict('records')\n",
    "            \n",
    "        for fx in fixtures:\n",
    "            home_team = fx['home_team']\n",
    "            away_team = fx['away_team']\n",
    "            home_actual_result = fx[self.target]\n",
    "            round_number = fx['round_number']\n",
    "            is_interstate = fx['is_interstate']\n",
    "            \n",
    "            # home_expected_result = self.predict_result(home_team, away_team, is_interstate, round_number)\n",
    "            # -------\n",
    "            home_rating_pre = self.current_ratings_[home_team]\n",
    "            away_rating_pre = self.current_ratings_[away_team]\n",
    "            \n",
    "            if round_number == 1:\n",
    "                # TODO: don't crunch the first round of training\n",
    "                # Crunch the start of the season\n",
    "                # Warning: this will make an in-place change the current ratings for the end of season \n",
    "                home_rating_pre = self.carryover*home_rating_pre + (1-self.carryover)*self.mean_rating\n",
    "                away_rating_pre = self.carryover*away_rating_pre + (1-self.carryover)*self.mean_rating\n",
    "            \n",
    "            ratings_diff = home_rating_pre - away_rating_pre + self.home_advantage + self.interstate_advantage*is_interstate\n",
    "            home_expected_result = 1.0 / (1 + exp(-ratings_diff/self.width))\n",
    "            \n",
    "            # self.update_ratings(home_actual_result, home_expected_result, round_number)\n",
    "            # ------\n",
    "            change_in_home_elo = self.k*self.k_decay**round_number*(home_actual_result - home_expected_result)          \n",
    "            \n",
    "            home_rating_post = home_rating_pre + change_in_home_elo\n",
    "            away_rating_post = away_rating_pre - change_in_home_elo\n",
    "            \n",
    "            # update ratings\n",
    "            self.current_ratings_[home_team] = home_rating_post\n",
    "            self.current_ratings_[away_team] = away_rating_post\n",
    "\n",
    "            fx['home_rating_pre'] = home_rating_pre\n",
    "            fx['away_rating_pre'] = away_rating_pre\n",
    "            fx['home_expected_result'] = home_expected_result  # proba\n",
    "            # fx['binary_expected_home_result'] = int(expected_home_result > 0.5)  # prob\n",
    "        \n",
    "        if as_dataframe:\n",
    "            # return pd.DataFrame(fixtures, columns=['matchid', 'home_expected_result']).set_index('matchid')\n",
    "            return pd.DataFrame(fixtures).set_index('matchid')\n",
    "\n",
    "        return fixtures\n",
    "    \n",
    "    def fit(self, X):\n",
    "        # the only thing we really need to store is the *latest* rating (the system is memoryless)\n",
    "        # self.teams_ = ['myteam']\n",
    "        # self.current_ratings_ = {'myteam': 1500}\n",
    "        return X\n",
    "        \n",
    "    def predict_proba(self):\n",
    "        return expected_home_result\n",
    "    \n",
    "    def predict(self):\n",
    "        return int(expected_home_result > 0.5)"
   ]
  },
  {
   "cell_type": "code",
   "execution_count": 6,
   "metadata": {},
   "outputs": [],
   "source": [
    "TEAMS = ['Adelaide', 'Brisbane Lions', 'Carlton', 'Collingwood', 'Essendon', 'Footscray', 'Fremantle', 'GWS', 'Geelong', 'Gold Coast', 'Hawthorn', 'Melbourne',\n",
    "         'North Melbourne', 'Port Adelaide', 'Richmond', 'St Kilda', 'Sydney', 'West Coast']"
   ]
  },
  {
   "cell_type": "code",
   "execution_count": 7,
   "metadata": {},
   "outputs": [
    {
     "name": "stdout",
     "output_type": "stream",
     "text": [
      "0.6650563607085346\n"
     ]
    }
   ],
   "source": [
    "dftrain = df[df['season'].between(2010, 2018)]\n",
    "test_msk = dftrain['season'].between(2016, 2018)\n",
    "ytest = dftrain.loc[test_msk, 'home_win_draw_loss']\n",
    "fxtrain = dftrain.reset_index().to_dict('records')\n",
    "\n",
    "elo = Elo(target='home_squashed_margin')  #\n",
    "fx = elo.iterate_fixtures(dftrain)\n",
    "ypred = fx.loc[test_msk, 'home_expected_result'].gt(0.5).astype(int)\n",
    "accuracy = (ytest == ypred).mean()\n",
    "print(accuracy)"
   ]
  },
  {
   "cell_type": "code",
   "execution_count": 8,
   "metadata": {},
   "outputs": [],
   "source": [
    "df17 = df[df['season'].eq(2017)]"
   ]
  },
  {
   "cell_type": "code",
   "execution_count": 13,
   "metadata": {},
   "outputs": [],
   "source": [
    "from scipy.optimize import minimize\n",
    "from sklearn.metrics import log_loss, mean_squared_error\n",
    "\n",
    "def loss_function(x, df, team_list, r0, width, reg_strength):\n",
    "    \"\"\"\n",
    "    Helper function for optimizing initial ratings\n",
    "    x[:-1] are team ratings; these should be ordered according to team_list. team_list should be ordered alphabetically. x[-1] is HT_advantage\n",
    "    \"\"\"\n",
    "    team_ratings = x[:-1]\n",
    "    home_advantage = x[-1]\n",
    "    \n",
    "    ratings_dict = dict(zip(team_list, team_ratings))\n",
    "    \n",
    "    home_rating = df['home_team'].map(ratings_dict)\n",
    "    away_rating = df['away_team'].map(ratings_dict)\n",
    "    \n",
    "    ratings_diff = home_rating - away_rating + home_advantage\n",
    "    home_expected_result = sigmoid(ratings_diff, width=width)    \n",
    "    # MSE & log_loss doesn't seem to work- needs to be the total sum of squared errors or the log_loss * len(df)\n",
    "    # Note that sklearn has defined `log_loss` as the average log_loss across samples\n",
    "    loss = log_loss(df['home_win_draw_loss'], home_expected_result) * len(df)\n",
    "    return loss\n",
    "\n",
    "def rating_constraint(x, r0):\n",
    "    # Average rating must equal r0\n",
    "    team_ratings = x[:-1]\n",
    "    return sum(team_ratings - r0)"
   ]
  },
  {
   "cell_type": "code",
   "execution_count": 14,
   "metadata": {},
   "outputs": [],
   "source": [
    "def _optimize_initial_ratings(df):\n",
    "    \"\"\"Optimize initial ratings and the home_team_advantage\n",
    "    Take a subset of match results as a training set.\n",
    "    Find the ratings values which minimize loss on this set.\n",
    "    This is a static optimization - ratings are NOT updated, hence the result is independent of k.\n",
    "    The sum of ratings is constrained\n",
    "    \"\"\"\n",
    "    r0 = 1500\n",
    "    width = 400/log(10)\n",
    "    reg_strength = 0\n",
    "\n",
    "    team_list = sorted(set(df['home_team']) | set(df['away_team']))\n",
    "    \n",
    "    x0 = np.array([r0]*len(team_list) + [0])\n",
    "    constraints = {'type': 'eq', 'fun': rating_constraint, 'args': [r0]}\n",
    "\n",
    "    result = minimize(loss_function, x0,\n",
    "                      args=(df, team_list, r0, width, reg_strength),\n",
    "                      constraints=constraints)\n",
    "    \n",
    "    ratings = result.x[:-1]\n",
    "    ratings = dict(zip(team_list, ratings))\n",
    "    home_advantage = result.x[-1]\n",
    "\n",
    "    return ratings, home_advantage"
   ]
  },
  {
   "cell_type": "code",
   "execution_count": 15,
   "metadata": {},
   "outputs": [],
   "source": [
    "dftrain = df[df['season'].eq(2017) & df['home_win_draw_loss'].ne(0.5)].copy()"
   ]
  },
  {
   "cell_type": "code",
   "execution_count": 16,
   "metadata": {},
   "outputs": [
    {
     "data": {
      "text/plain": [
       "88.75482720719378"
      ]
     },
     "execution_count": 16,
     "metadata": {},
     "output_type": "execute_result"
    }
   ],
   "source": [
    "ratings, home_advantage = _optimize_initial_ratings(dftrain)\n",
    "ratings = pd.Series(ratings).sort_values(ascending=False)\n",
    "home_advantage"
   ]
  },
  {
   "cell_type": "code",
   "execution_count": 17,
   "metadata": {},
   "outputs": [],
   "source": [
    "# from statsmodels.discrete.discrete_model import Logit\n",
    "from statsmodels.api import Logit, OLS\n",
    "from sklearn.linear_model import LogisticRegression, LinearRegression"
   ]
  },
  {
   "cell_type": "code",
   "execution_count": 18,
   "metadata": {},
   "outputs": [],
   "source": [
    "width = 400 / log(10)"
   ]
  },
  {
   "cell_type": "code",
   "execution_count": 19,
   "metadata": {},
   "outputs": [
    {
     "data": {
      "text/html": [
       "<div>\n",
       "<style scoped>\n",
       "    .dataframe tbody tr th:only-of-type {\n",
       "        vertical-align: middle;\n",
       "    }\n",
       "\n",
       "    .dataframe tbody tr th {\n",
       "        vertical-align: top;\n",
       "    }\n",
       "\n",
       "    .dataframe thead th {\n",
       "        text-align: right;\n",
       "    }\n",
       "</style>\n",
       "<table border=\"1\" class=\"dataframe\">\n",
       "  <thead>\n",
       "    <tr style=\"text-align: right;\">\n",
       "      <th>home_win_draw_loss</th>\n",
       "      <th>0.0</th>\n",
       "      <th>0.5</th>\n",
       "      <th>1.0</th>\n",
       "    </tr>\n",
       "    <tr>\n",
       "      <th>season</th>\n",
       "      <th></th>\n",
       "      <th></th>\n",
       "      <th></th>\n",
       "    </tr>\n",
       "  </thead>\n",
       "  <tbody>\n",
       "    <tr>\n",
       "      <th>2015</th>\n",
       "      <td>91</td>\n",
       "      <td>2</td>\n",
       "      <td>113</td>\n",
       "    </tr>\n",
       "    <tr>\n",
       "      <th>2016</th>\n",
       "      <td>78</td>\n",
       "      <td>0</td>\n",
       "      <td>129</td>\n",
       "    </tr>\n",
       "    <tr>\n",
       "      <th>2017</th>\n",
       "      <td>80</td>\n",
       "      <td>3</td>\n",
       "      <td>124</td>\n",
       "    </tr>\n",
       "    <tr>\n",
       "      <th>2018</th>\n",
       "      <td>90</td>\n",
       "      <td>1</td>\n",
       "      <td>116</td>\n",
       "    </tr>\n",
       "    <tr>\n",
       "      <th>2019</th>\n",
       "      <td>28</td>\n",
       "      <td>0</td>\n",
       "      <td>26</td>\n",
       "    </tr>\n",
       "  </tbody>\n",
       "</table>\n",
       "</div>"
      ],
      "text/plain": [
       "home_win_draw_loss  0.0  0.5  1.0\n",
       "season                           \n",
       "2015                 91    2  113\n",
       "2016                 78    0  129\n",
       "2017                 80    3  124\n",
       "2018                 90    1  116\n",
       "2019                 28    0   26"
      ]
     },
     "execution_count": 19,
     "metadata": {},
     "output_type": "execute_result"
    }
   ],
   "source": [
    "df.groupby('season')['home_win_draw_loss'].value_counts().unstack(fill_value=0).tail()"
   ]
  },
  {
   "cell_type": "code",
   "execution_count": 20,
   "metadata": {},
   "outputs": [],
   "source": [
    "dftrain = df[df['season'].eq(2015) & df['home_win_draw_loss'].ne(0.5)].copy()\n",
    "X = (pd.get_dummies(dftrain['home_team']).astype(float) - pd.get_dummies(dftrain['away_team']).astype(float))\n",
    "y = dftrain['home_win_draw_loss']"
   ]
  },
  {
   "cell_type": "code",
   "execution_count": 21,
   "metadata": {},
   "outputs": [
    {
     "name": "stdout",
     "output_type": "stream",
     "text": [
      "Optimization terminated successfully.\n",
      "         Current function value: 0.509911\n",
      "         Iterations 6\n"
     ]
    },
    {
     "data": {
      "text/plain": [
       "(-1.0137355688222272e-07, 1.1562192942042049)"
      ]
     },
     "execution_count": 21,
     "metadata": {},
     "output_type": "execute_result"
    }
   ],
   "source": [
    "model = Logit(y, X)\n",
    "fit_model = model.fit()\n",
    "coefs = pd.Series(fit_model.params).sort_values(ascending=False)\n",
    "coefs.sum(), coefs.std()"
   ]
  },
  {
   "cell_type": "code",
   "execution_count": 22,
   "metadata": {},
   "outputs": [
    {
     "data": {
      "text/plain": [
       "West Coast         1764.753267\n",
       "Fremantle          1762.634414\n",
       "Hawthorn           1742.551697\n",
       "Sydney             1670.004547\n",
       "Richmond           1636.053158\n",
       "North Melbourne    1616.823988\n",
       "Adelaide           1607.066097\n",
       "Footscray          1590.876672\n",
       "Port Adelaide      1586.299341\n",
       "Geelong            1582.858548\n",
       "GWS                1467.170635\n",
       "Collingwood        1445.558960\n",
       "Melbourne          1346.951377\n",
       "Essendon           1309.876665\n",
       "St Kilda           1304.241143\n",
       "Gold Coast         1199.859853\n",
       "Carlton            1190.460395\n",
       "Brisbane Lions     1175.959225\n",
       "dtype: float64"
      ]
     },
     "execution_count": 22,
     "metadata": {},
     "output_type": "execute_result"
    }
   ],
   "source": [
    "coefs*width + 1500"
   ]
  },
  {
   "cell_type": "code",
   "execution_count": 23,
   "metadata": {},
   "outputs": [
    {
     "data": {
      "text/plain": [
       "(2.220446049250313e-15, 1.1777289469064713)"
      ]
     },
     "execution_count": 23,
     "metadata": {},
     "output_type": "execute_result"
    }
   ],
   "source": [
    "dftrain = df[df['season'].eq(2015) & df['home_win_draw_loss'].ne(0.5)].copy()\n",
    "X = (pd.get_dummies(dftrain['home_team']).astype(float) - pd.get_dummies(dftrain['away_team']).astype(float))\n",
    "y = dftrain['home_win_draw_loss']\n",
    "\n",
    "model = LogisticRegression(solver='liblinear', C=1e12)\n",
    "model.fit(X, y)\n",
    "coefs = pd.Series(model.coef_[0], index=X.columns).sort_values(ascending=False)\n",
    "coefs.sum(), coefs.std()"
   ]
  },
  {
   "cell_type": "code",
   "execution_count": 24,
   "metadata": {},
   "outputs": [
    {
     "data": {
      "text/plain": [
       "Fremantle          1771.575670\n",
       "West Coast         1765.912320\n",
       "Hawthorn           1743.443092\n",
       "Sydney             1677.252536\n",
       "Richmond           1641.253757\n",
       "North Melbourne    1612.620429\n",
       "Adelaide           1610.166859\n",
       "Footscray          1598.961052\n",
       "Geelong            1583.013258\n",
       "Port Adelaide      1582.952637\n",
       "GWS                1467.255811\n",
       "Collingwood        1443.042167\n",
       "Melbourne          1345.891534\n",
       "St Kilda           1308.294152\n",
       "Essendon           1304.759421\n",
       "Gold Coast         1194.165340\n",
       "Carlton            1177.759110\n",
       "Brisbane Lions     1171.680857\n",
       "dtype: float64"
      ]
     },
     "execution_count": 24,
     "metadata": {},
     "output_type": "execute_result"
    }
   ],
   "source": [
    "coefs*width + 1500"
   ]
  },
  {
   "cell_type": "code",
   "execution_count": 86,
   "metadata": {},
   "outputs": [],
   "source": [
    "x = np.array([[1, 1.,-1., 0, 1], [1, -1.,1., 0, 1], [1, 1.,-1., 0, 0], [1, -1.,0, 1, 0]])\n",
    "y = np.array([1, 0, 1, 1])"
   ]
  },
  {
   "cell_type": "code",
   "execution_count": 87,
   "metadata": {},
   "outputs": [
    {
     "data": {
      "text/plain": [
       "array([[ 1.,  1., -1.,  0.,  1.],\n",
       "       [ 1., -1.,  1.,  0.,  1.],\n",
       "       [ 1.,  1., -1.,  0.,  0.],\n",
       "       [ 1., -1.,  0.,  1.,  0.]])"
      ]
     },
     "execution_count": 87,
     "metadata": {},
     "output_type": "execute_result"
    }
   ],
   "source": [
    "x"
   ]
  },
  {
   "cell_type": "code",
   "execution_count": 88,
   "metadata": {},
   "outputs": [
    {
     "name": "stdout",
     "output_type": "stream",
     "text": [
      "0.0\n"
     ]
    },
    {
     "data": {
      "text/plain": [
       "array([ 5.00000000e-01, -2.22044605e-16, -5.00000000e-01,  5.00000000e-01,\n",
       "        2.22044605e-16])"
      ]
     },
     "execution_count": 88,
     "metadata": {},
     "output_type": "execute_result"
    }
   ],
   "source": [
    "xtx = np.dot(x.transpose(), x)\n",
    "invxtx = np.linalg.pinv(xtx)\n",
    "hat = np.dot(invxtx, x.transpose())\n",
    "\n",
    "yhat = np.dot(hat, y)\n",
    "print(yhat[1:].sum())\n",
    "yhat"
   ]
  },
  {
   "cell_type": "code",
   "execution_count": 89,
   "metadata": {},
   "outputs": [
    {
     "name": "stdout",
     "output_type": "stream",
     "text": [
      "-0.03858814316734094\n"
     ]
    },
    {
     "data": {
      "text/plain": [
       "array([[  4.58841784,   1.39196545, -10.23410897,   8.84214353,\n",
       "         -4.62700598]])"
      ]
     },
     "execution_count": 89,
     "metadata": {},
     "output_type": "execute_result"
    }
   ],
   "source": [
    "lr = LogisticRegression(fit_intercept=False, solver='liblinear', C=1e12).fit(x, y)\n",
    "print(lr.coef_.sum())\n",
    "lr.coef_"
   ]
  },
  {
   "cell_type": "code",
   "execution_count": 90,
   "metadata": {},
   "outputs": [
    {
     "data": {
      "text/plain": [
       "array([ 5.00000000e-01,  1.66533454e-16, -5.00000000e-01,  5.00000000e-01,\n",
       "       -1.26690821e-16])"
      ]
     },
     "execution_count": 90,
     "metadata": {},
     "output_type": "execute_result"
    }
   ],
   "source": [
    "OLS(y, x).fit().params"
   ]
  },
  {
   "cell_type": "code",
   "execution_count": 72,
   "metadata": {},
   "outputs": [
    {
     "ename": "NameError",
     "evalue": "name 'adf' is not defined",
     "output_type": "error",
     "traceback": [
      "\u001b[0;31m---------------------------------------------------------------------------\u001b[0m",
      "\u001b[0;31mNameError\u001b[0m                                 Traceback (most recent call last)",
      "\u001b[0;32m<ipython-input-72-763d57b0918e>\u001b[0m in \u001b[0;36m<module>\u001b[0;34m\u001b[0m\n\u001b[0;32m----> 1\u001b[0;31m \u001b[0;32mraise\u001b[0m \u001b[0madf\u001b[0m\u001b[0;34m\u001b[0m\u001b[0;34m\u001b[0m\u001b[0m\n\u001b[0m",
      "\u001b[0;31mNameError\u001b[0m: name 'adf' is not defined"
     ]
    }
   ],
   "source": [
    "raise adf"
   ]
  },
  {
   "cell_type": "code",
   "execution_count": null,
   "metadata": {},
   "outputs": [],
   "source": [
    "def evaluate_accuracy_initial_ratings(x):\n",
    "    # teams must be ordered\n",
    "    elo = Elo(initial_ratings=dict(zip(TEAMS, x)))\n",
    "    fx = elo.iterate_fixtures(fxtrain)\n",
    "    ypred = fx.loc[test_msk, 'home_expected_result'].gt(0.5).astype(int)\n",
    "    accuracy = (ytest == ypred).mean()\n",
    "    return -accuracy   \n",
    "\n",
    "def rating_constraint(x, r0):\n",
    "    # Average rating must equal r0\n",
    "    # team_ratings = x[:-1]\n",
    "    return sum(x - r0)\n",
    "\n",
    "constraints = {'type': 'eq', 'fun': rating_constraint, 'args': [1500]}\n",
    "\n",
    "res = minimize(evaluate_accuracy_initial_ratings, [1500.]*len(TEAMS), constraints=constraints)\n",
    "res.x"
   ]
  },
  {
   "cell_type": "code",
   "execution_count": null,
   "metadata": {},
   "outputs": [],
   "source": [
    "# Baseline accuracy\n",
    "dftrain.loc[test_msk, 'winner'].eq('home').mean()"
   ]
  },
  {
   "cell_type": "code",
   "execution_count": null,
   "metadata": {},
   "outputs": [],
   "source": [
    "import seaborn as sns"
   ]
  },
  {
   "cell_type": "code",
   "execution_count": null,
   "metadata": {},
   "outputs": [],
   "source": [
    "# d = fx[['matchid', 'season', 'round_number', 'home_team', 'away_team', 'home_rating_pre', 'away_rating_pre']]\n",
    "id_vars = ['date', 'season', 'round_number']\n",
    "long = pd.concat([\n",
    "    pd.melt(fx, id_vars=id_vars, value_vars=['home_team', 'away_team'], var_name='home_or_away', value_name='team'),\n",
    "    pd.melt(fx, id_vars=None, value_vars=['home_rating_pre', 'away_rating_pre'], var_name='home_or_away2', value_name='rating'),\n",
    "], 'columns')"
   ]
  },
  {
   "cell_type": "code",
   "execution_count": null,
   "metadata": {},
   "outputs": [],
   "source": [
    "import altair as alt\n",
    "alt.Chart(long[long['season'] == 2013]).mark_line(interpolate='step-after').encode(\n",
    "    x='date', \n",
    "    y=alt.Y('rating', scale=alt.Scale(zero=False)),\n",
    "    color='team',\n",
    "    tooltip=['round_number', 'home_or_away', 'date', 'team', 'rating']\n",
    ")"
   ]
  },
  {
   "cell_type": "code",
   "execution_count": null,
   "metadata": {},
   "outputs": [],
   "source": [
    "# sns.scatterplot(x='date', y='rating', hue='team', data=long)"
   ]
  },
  {
   "cell_type": "code",
   "execution_count": null,
   "metadata": {},
   "outputs": [],
   "source": [
    "# need to melt fixtures so they can be plotted"
   ]
  },
  {
   "cell_type": "code",
   "execution_count": null,
   "metadata": {},
   "outputs": [],
   "source": [
    "from scipy.optimize import minimize, basinhopping, differential_evolution, dual_annealing, shgo"
   ]
  },
  {
   "cell_type": "code",
   "execution_count": null,
   "metadata": {},
   "outputs": [],
   "source": [
    "def evaluate_accuracy(x):\n",
    "    \"\"\"ytest and fxtrain defined outside this function\n",
    "    \"\"\"\n",
    "    elo = Elo(*x)\n",
    "    fx = elo.iterate_fixtures(fxtrain)\n",
    "    ypred = fx.loc[test_msk, 'home_expected_result'].gt(0.5).astype(int)\n",
    "    accuracy = (ytest == ypred).mean()\n",
    "    # print(accuracy, x)\n",
    "    return -accuracy"
   ]
  },
  {
   "cell_type": "code",
   "execution_count": null,
   "metadata": {},
   "outputs": [],
   "source": [
    "# see http://opisthokonta.net/?p=1412"
   ]
  },
  {
   "cell_type": "code",
   "execution_count": null,
   "metadata": {},
   "outputs": [],
   "source": [
    "# initial_ratings = dict(zip(TEAMS, res.x))\n",
    "# initial_ratings"
   ]
  },
  {
   "cell_type": "code",
   "execution_count": null,
   "metadata": {},
   "outputs": [],
   "source": [
    "evaluate_accuracy_initial_ratings(res.x)"
   ]
  },
  {
   "cell_type": "code",
   "execution_count": null,
   "metadata": {},
   "outputs": [],
   "source": [
    "# minimize?"
   ]
  },
  {
   "cell_type": "code",
   "execution_count": null,
   "metadata": {},
   "outputs": [],
   "source": [
    "def optimise_parameters(fxtrain, ytest, test_msk, as_dataframe=True):\n",
    "    scores = []\n",
    "    target = 'home_squashed_margin'\n",
    "    # for target in ['home_squashed_margin', 'home_points_ratio', 'home_win_draw_loss']:\n",
    "    for k_decay in np.linspace(0.8, 1, 5):\n",
    "        for carryover in np.linspace(0.6, 1, 5):\n",
    "            for k in np.linspace(0, 100, 5):\n",
    "                for interstate_advantage in np.linspace(0, 30, 5):\n",
    "                    for home_advantage in np.linspace(0, 30, 5):\n",
    "\n",
    "                        # Score\n",
    "                        elo = Elo(target=target, k_decay=k_decay, k=k,\n",
    "                                  home_advantage=home_advantage, interstate_advantage=interstate_advantage, carryover=carryover)\n",
    "                        fx = elo.iterate_fixtures(fxtrain)\n",
    "                        ypred = fx.loc[test_msk, 'home_expected_result'].gt(0.5).astype(int)\n",
    "                        # yproba = \n",
    "\n",
    "                        accuracy = (ytest == ypred).mean()\n",
    "                        # log_loss = np.nan\n",
    "\n",
    "                        scores.append({'target': target, 'carryover': carryover, 'k': k, 'k_decay': k_decay, \n",
    "                                       'home_advantage': home_advantage, 'interstate_advantage': interstate_advantage,\n",
    "                                       'accuracy': accuracy})\n",
    "    if as_dataframe:\n",
    "        return pd.DataFrame(scores).sort_values('accuracy', ascending=False)\n",
    "    \n",
    "    return scores"
   ]
  },
  {
   "cell_type": "code",
   "execution_count": null,
   "metadata": {},
   "outputs": [],
   "source": [
    "scores = optimise_parameters(fxtrain, ytest, test_msk)\n",
    "scores.head()"
   ]
  },
  {
   "cell_type": "code",
   "execution_count": null,
   "metadata": {},
   "outputs": [],
   "source": [
    "# sns.scatterplot(x='k', y='accuracy', data=scores[(scores.home_advantage==15) & (scores.interstate_advantage==7.5) & (scores.carryover==0.7) & (scores.k_decay==0.9)])"
   ]
  },
  {
   "cell_type": "code",
   "execution_count": null,
   "metadata": {},
   "outputs": [],
   "source": [
    "# cv_results = pd.DataFrame(scores).sort_values('accuracy', ascending=False)"
   ]
  },
  {
   "cell_type": "code",
   "execution_count": null,
   "metadata": {},
   "outputs": [],
   "source": [
    "# best_params = cv_results.iloc[0].to_dict()"
   ]
  },
  {
   "cell_type": "code",
   "execution_count": null,
   "metadata": {},
   "outputs": [],
   "source": [
    "elo = Elo(target='home_squashed_margin', k_decay=0.9, k=100, width=250, \n",
    "          home_advantage=22.5, interstate_advantage=7.5, carryover=0.6)\n",
    "fx = elo.iterate_fixtures(fxtrain)\n",
    "ypred = fx.loc[test_msk, 'home_expected_result'].gt(0.5).astype(int)\n",
    "# yproba = \n",
    "\n",
    "accuracy = (ytest == ypred).mean()\n",
    "accuracy"
   ]
  },
  {
   "cell_type": "code",
   "execution_count": null,
   "metadata": {},
   "outputs": [],
   "source": [
    "elo = Elo(target='home_squashed_margin', k_decay=0.9, k=100, width=250, \n",
    "          home_advantage=7.5, interstate_advantage=22.5, carryover=0.6)\n",
    "fx = elo.iterate_fixtures(fxtrain)\n",
    "ypred = fx.loc[test_msk, 'home_expected_result'].gt(0.5).astype(int)\n",
    "# yproba = \n",
    "\n",
    "accuracy = (ytest == ypred).mean()\n",
    "accuracy"
   ]
  },
  {
   "cell_type": "code",
   "execution_count": null,
   "metadata": {},
   "outputs": [],
   "source": [
    "best_params"
   ]
  },
  {
   "cell_type": "code",
   "execution_count": null,
   "metadata": {},
   "outputs": [],
   "source": [
    "fx['correct'] = fx['home_expected_result'].ge(0.5) == fx['home_win_draw_loss']"
   ]
  },
  {
   "cell_type": "code",
   "execution_count": null,
   "metadata": {},
   "outputs": [],
   "source": [
    "from sklearn.linear_model import LogisticRegression"
   ]
  },
  {
   "cell_type": "code",
   "execution_count": null,
   "metadata": {},
   "outputs": [],
   "source": [
    "fx.groupby('season')['correct'].mean()"
   ]
  },
  {
   "cell_type": "code",
   "execution_count": null,
   "metadata": {},
   "outputs": [],
   "source": [
    "cv_results.head(10)"
   ]
  },
  {
   "cell_type": "code",
   "execution_count": null,
   "metadata": {},
   "outputs": [],
   "source": [
    "raise Stop"
   ]
  }
 ],
 "metadata": {
  "kernelspec": {
   "display_name": "Python 3",
   "language": "python",
   "name": "python3"
  },
  "language_info": {
   "codemirror_mode": {
    "name": "ipython",
    "version": 3
   },
   "file_extension": ".py",
   "mimetype": "text/x-python",
   "name": "python",
   "nbconvert_exporter": "python",
   "pygments_lexer": "ipython3",
   "version": "3.7.3"
  },
  "toc": {
   "base_numbering": 1,
   "colors": {
    "hover_highlight": "#DAA520",
    "navigate_num": "#000000",
    "navigate_text": "#333333",
    "running_highlight": "#FF0000",
    "selected_highlight": "#FFD700",
    "sidebar_border": "#EEEEEE",
    "wrapper_background": "#FFFFFF"
   },
   "moveMenuLeft": true,
   "nav_menu": {},
   "navigate_menu": true,
   "number_sections": true,
   "sideBar": true,
   "skip_h1_title": false,
   "threshold": 4,
   "title_cell": "Table of Contents",
   "title_sidebar": "Contents",
   "toc_cell": false,
   "toc_position": {},
   "toc_section_display": true,
   "toc_window_display": false,
   "widenNotebook": false
  }
 },
 "nbformat": 4,
 "nbformat_minor": 4
}
